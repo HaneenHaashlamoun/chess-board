{
 "cells": [
  {
   "cell_type": "code",
   "execution_count": 1,
   "metadata": {},
   "outputs": [],
   "source": [
    "%matplotlib inline\n",
    "import numpy as np\n",
    "import matplotlib.pyplot as plt"
   ]
  },
  {
   "cell_type": "code",
   "execution_count": 288,
   "metadata": {},
   "outputs": [
    {
     "name": "stderr",
     "output_type": "stream",
     "text": [
      "Clipping input data to the valid range for imshow with RGB data ([0..1] for floats or [0..255] for integers).\n"
     ]
    },
    {
     "data": {
      "text/plain": [
       "False"
      ]
     },
     "execution_count": 288,
     "metadata": {},
     "output_type": "execute_result"
    },
    {
     "data": {
      "image/png": "[encoded data removed]",
      "text/plain": [
       "<Figure size 432x288 with 1 Axes>"
      ]
     },
     "metadata": {
      "needs_background": "light"
     },
     "output_type": "display_data"
    }
   ],
   "source": [
    "class Board:\n",
    "    def __init__(self):\n",
    "        self.grid = np.zeros((8, 8, 3))\n",
    "        self.grid[::2, 1::2] = 1\n",
    "        self.grid[1::2, ::2] = 1\n",
    "\n",
    "    def add_red(self, row, col):\n",
    "        red = (255, 0, 0)\n",
    "        self.grid[row][col] = red\n",
    "        # self.grid[row][col+1] = 0\n",
    "        self.red = [row, col]\n",
    "        # print(self.grid)\n",
    "\n",
    "    def add_blue(self, row, col):\n",
    "        blue = (0, 0, 255)\n",
    "        self.grid[row][col] = blue\n",
    "        self.blue = [row, col]\n",
    "\n",
    "    def is_under_attack(self):        \n",
    "        if self.red[0] == self.blue[0] or self.red[1] == self.blue[1] or (self.blue[0]-self.red[0] == self.blue[1]-self.red[1]):\n",
    "            return True\n",
    "        else:\n",
    "            return False\n",
    "\n",
    "    def render(self):\n",
    "        plt.imshow(self.grid, cmap=plt.cm.binary)\n",
    "\n",
    "board = Board()\n",
    "# print(board.grid)\n",
    "board.add_red(0, 3)\n",
    "board.add_blue(1,7)\n",
    "board.render()\n",
    "board.is_under_attack()\n"
   ]
  },
  {
   "cell_type": "code",
   "execution_count": 245,
   "metadata": {},
   "outputs": [
    {
     "name": "stderr",
     "output_type": "stream",
     "text": [
      "Clipping input data to the valid range for imshow with RGB data ([0..1] for floats or [0..255] for integers).\n"
     ]
    },
    {
     "name": "stdout",
     "output_type": "stream",
     "text": [
      "True\n"
     ]
    },
    {
     "data": {
      "image/png": "[encoded data removed]",
      "text/plain": [
       "<Figure size 432x288 with 1 Axes>"
      ]
     },
     "metadata": {
      "needs_background": "light"
     },
     "output_type": "display_data"
    }
   ],
   "source": [
    "# on the same row\n",
    "b = Board()\n",
    "b.add_blue(4, 5)\n",
    "b.add_red(4, 7)\n",
    "print(b.is_under_attack())\n",
    "b.render()"
   ]
  },
  {
   "cell_type": "code",
   "execution_count": 247,
   "metadata": {},
   "outputs": [
    {
     "name": "stderr",
     "output_type": "stream",
     "text": [
      "Clipping input data to the valid range for imshow with RGB data ([0..1] for floats or [0..255] for integers).\n"
     ]
    },
    {
     "name": "stdout",
     "output_type": "stream",
     "text": [
      "True\n"
     ]
    },
    {
     "data": {
      "image/png": "[encoded data removed]",
      "text/plain": [
       "<Figure size 432x288 with 1 Axes>"
      ]
     },
     "metadata": {
      "needs_background": "light"
     },
     "output_type": "display_data"
    }
   ],
   "source": [
    "# on the same Column\n",
    "b = Board()\n",
    "b.add_blue(2, 1)\n",
    "b.add_red(5, 1)\n",
    "print(b.is_under_attack())\n",
    "b.render()"
   ]
  },
  {
   "cell_type": "code",
   "execution_count": 263,
   "metadata": {},
   "outputs": [
    {
     "name": "stderr",
     "output_type": "stream",
     "text": [
      "Clipping input data to the valid range for imshow with RGB data ([0..1] for floats or [0..255] for integers).\n"
     ]
    },
    {
     "name": "stdout",
     "output_type": "stream",
     "text": [
      "Not Under Attack!\n"
     ]
    },
    {
     "data": {
      "image/png": "[encoded data removed]",
      "text/plain": [
       "<Figure size 432x288 with 1 Axes>"
      ]
     },
     "metadata": {
      "needs_background": "light"
     },
     "output_type": "display_data"
    }
   ],
   "source": [
    "b = Board()\n",
    "b.add_red(0,1)\n",
    "b.add_blue(4,3)\n",
    "b.render()\n",
    "assert b.is_under_attack() == False\n",
    "print('Not Under Attack!')"
   ]
  },
  {
   "cell_type": "code",
   "execution_count": 292,
   "metadata": {},
   "outputs": [
    {
     "name": "stderr",
     "output_type": "stream",
     "text": [
      "Clipping input data to the valid range for imshow with RGB data ([0..1] for floats or [0..255] for integers).\n"
     ]
    },
    {
     "name": "stdout",
     "output_type": "stream",
     "text": [
      "True\n"
     ]
    },
    {
     "data": {
      "image/png": "[encoded data removed]",
      "text/plain": [
       "<Figure size 432x288 with 1 Axes>"
      ]
     },
     "metadata": {
      "needs_background": "light"
     },
     "output_type": "display_data"
    }
   ],
   "source": [
    "b = Board()\n",
    "b.add_blue(6, 6)\n",
    "b.add_red(1, 1)\n",
    "assert b.is_under_attack() == True\n",
    "print(b.is_under_attack())\n",
    "b.render()"
   ]
  }
 ],
 "metadata": {
  "interpreter": {
   "hash": "a62e16431a7eb14a9ed37f53802f613c46992597df28526d20be6d09d6ca82ac"
  },
  "kernelspec": {
   "display_name": "Python 3.9.5 64-bit ('.venv': poetry)",
   "name": "python3"
  },
  "language_info": {
   "codemirror_mode": {
    "name": "ipython",
    "version": 3
   },
   "file_extension": ".py",
   "mimetype": "text/x-python",
   "name": "python",
   "nbconvert_exporter": "python",
   "pygments_lexer": "ipython3",
   "version": "3.9.5"
  },
  "orig_nbformat": 4
 },
 "nbformat": 4,
 "nbformat_minor": 2
}
